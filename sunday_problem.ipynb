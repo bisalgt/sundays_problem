{
  "nbformat": 4,
  "nbformat_minor": 0,
  "metadata": {
    "colab": {
      "name": "sunday_problem.ipynb",
      "provenance": [],
      "collapsed_sections": []
    },
    "kernelspec": {
      "name": "python3",
      "display_name": "Python 3"
    }
  },
  "cells": [
    {
      "cell_type": "code",
      "metadata": {
        "id": "YzTrJPzS5kR5"
      },
      "source": [
        "def is_leap_year(year):\n",
        "  if year%4==0:\n",
        "    if year%100==0:\n",
        "      if year%400==0:\n",
        "        return True\n",
        "      else:\n",
        "        return False\n",
        "    else:\n",
        "      return True\n",
        "  else:\n",
        "    return False\n",
        "\n"
      ],
      "execution_count": 6,
      "outputs": []
    },
    {
      "cell_type": "code",
      "metadata": {
        "id": "TIi4dwxFBUjl"
      },
      "source": [
        ""
      ],
      "execution_count": null,
      "outputs": []
    },
    {
      "cell_type": "markdown",
      "metadata": {
        "id": "wAsN69KnBYGk"
      },
      "source": [
        "# looping the year to find the number of sundays\n"
      ]
    },
    {
      "cell_type": "code",
      "metadata": {
        "colab": {
          "base_uri": "https://localhost:8080/"
        },
        "id": "AL8BjI795mcF",
        "outputId": "88391f73-6986-4ed9-c576-1ea82dda6bdd"
      },
      "source": [
        "# working code to determine the number of sundays in the 20th century\n",
        "count = 0\n",
        "for year in range(1901, 2001):\n",
        "  if year==1901:\n",
        "    day = 3\n",
        "  if is_leap_year(year):\n",
        "    months = [31, 29, 31, 30, 31, 30, 31, 31, 30, 31, 30, 31]\n",
        "  else:\n",
        "    months = [31, 28, 31, 30, 31, 30, 31, 31, 30, 31, 30, 31]\n",
        "\n",
        "  for i in range(12):\n",
        "    rem = (day + months[i])%7\n",
        "    if rem == 1:\n",
        "      count += 1\n",
        "      day = 1\n",
        "    else:\n",
        "      day = rem\n",
        "  # print ( i + 1, months[i], day, count)\n",
        "\n",
        "print(count)\n",
        "\n",
        "  "
      ],
      "execution_count": 28,
      "outputs": [
        {
          "output_type": "stream",
          "text": [
            "171\n"
          ],
          "name": "stdout"
        }
      ]
    },
    {
      "cell_type": "code",
      "metadata": {
        "colab": {
          "base_uri": "https://localhost:8080/"
        },
        "id": "3pX6oPZFAowm",
        "outputId": "97bcb80c-647c-4086-ff0e-755aa79c63da"
      },
      "source": [
        "months = [31, 28, 31, 30, 31, 30, 31, 31, 30, 31, 30, 31]\n",
        "count = 0\n",
        "day = 0\n",
        "for i in range(12):\n",
        "  \n",
        "  rem = (day + months[i])%7\n",
        "  if rem == 1:\n",
        "    count += 1\n",
        "    day = 1\n",
        "  else:\n",
        "    day = rem\n",
        "  print ( i + 1, months[i], day, count)\n",
        "print(count)"
      ],
      "execution_count": 25,
      "outputs": [
        {
          "output_type": "stream",
          "text": [
            "1 31 3 0\n",
            "2 28 3 0\n",
            "3 31 6 0\n",
            "4 30 1 1\n",
            "5 31 4 1\n",
            "6 30 6 1\n",
            "7 31 2 1\n",
            "8 31 5 1\n",
            "9 30 0 1\n",
            "10 31 3 1\n",
            "11 30 5 1\n",
            "12 31 1 2\n",
            "2\n"
          ],
          "name": "stdout"
        }
      ]
    },
    {
      "cell_type": "code",
      "metadata": {
        "colab": {
          "base_uri": "https://localhost:8080/"
        },
        "id": "QLmvRhiPGpe_",
        "outputId": "a6760b1a-6a7a-45c6-f8c9-68bc4ac5bba0"
      },
      "source": [
        "print(449/100)"
      ],
      "execution_count": 12,
      "outputs": [
        {
          "output_type": "stream",
          "text": [
            "4.49\n"
          ],
          "name": "stdout"
        }
      ]
    },
    {
      "cell_type": "code",
      "metadata": {
        "id": "6MdGC-PvGr7M"
      },
      "source": [
        ""
      ],
      "execution_count": null,
      "outputs": []
    }
  ]
}