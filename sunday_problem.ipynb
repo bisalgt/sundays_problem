{
  "nbformat": 4,
  "nbformat_minor": 0,
  "metadata": {
    "colab": {
      "name": "sunday_problem.ipynb",
      "provenance": [],
      "collapsed_sections": []
    },
    "kernelspec": {
      "name": "python3",
      "display_name": "Python 3"
    }
  },
  "cells": [
    {
      "cell_type": "code",
      "metadata": {
        "id": "YzTrJPzS5kR5"
      },
      "source": [
        "def is_leap_year(year):\n",
        "  if year%4==0:\n",
        "    if year%100==0:\n",
        "      if year%400==0:\n",
        "        return True\n",
        "      else:\n",
        "        return False\n",
        "    else:\n",
        "      return True\n",
        "  else:\n",
        "    return False\n",
        "\n"
      ],
      "execution_count": 6,
      "outputs": []
    },
    {
      "cell_type": "code",
      "metadata": {
        "id": "TIi4dwxFBUjl"
      },
      "source": [
        ""
      ],
      "execution_count": null,
      "outputs": []
    },
    {
      "cell_type": "markdown",
      "metadata": {
        "id": "wAsN69KnBYGk"
      },
      "source": [
        "# looping the year to find the number of sundays\n"
      ]
    },
    {
      "cell_type": "code",
      "metadata": {
        "colab": {
          "base_uri": "https://localhost:8080/"
        },
        "id": "AL8BjI795mcF",
        "outputId": "c0ca6208-5d26-458f-9869-521168a3feea"
      },
      "source": [
        "\n",
        "count = 0\n",
        "for year in range(1901, 2001):\n",
        "  if year==1901:\n",
        "    day = 2\n",
        "  if is_leap_year(year):\n",
        "    months = [31, 29, 31, 30, 31, 30, 31, 31, 30, 31, 30, 31]\n",
        "  else:\n",
        "    months = [31, 28, 31, 30, 31, 30, 31, 31, 30, 31, 30, 31]\n",
        "  total_sum = sum(months)\n",
        "  for i in range(12):\n",
        "    if months[i]%7 == 0:\n",
        "      count += 1\n",
        "    else:\n",
        "      rem = months[i]%7\n",
        "      day += rem\n",
        "      if day ==1:\n",
        "        count += 1\n",
        "\n",
        "print(count)\n",
        "\n",
        "  "
      ],
      "execution_count": 9,
      "outputs": [
        {
          "output_type": "stream",
          "text": [
            "75\n"
          ],
          "name": "stdout"
        }
      ]
    },
    {
      "cell_type": "code",
      "metadata": {
        "colab": {
          "base_uri": "https://localhost:8080/"
        },
        "id": "3pX6oPZFAowm",
        "outputId": "344aae21-8a57-45f9-c2a2-f8077a54dfb1"
      },
      "source": [
        "months = [31, 28, 31, 30, 31, 30, 31, 31, 30, 31, 30, 31]\n",
        "count = 0\n",
        "for i in range(12):\n",
        "    if months[i]%7 == 0:\n",
        "      count += 1\n",
        "    else:\n",
        "      rem = months[i]%7\n",
        "      day += rem\n",
        "      if day ==1:\n",
        "        count += 1\n",
        "print(count)"
      ],
      "execution_count": 8,
      "outputs": [
        {
          "output_type": "stream",
          "text": [
            "1\n"
          ],
          "name": "stdout"
        }
      ]
    }
  ]
}